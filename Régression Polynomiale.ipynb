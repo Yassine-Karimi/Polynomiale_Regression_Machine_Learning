{
 "cells": [
  {
   "cell_type": "markdown",
   "id": "4cd96111",
   "metadata": {},
   "source": [
    "# Prédire la largeur de sépale en fonction de la longueur de pétale - Régression Polynomiale"
   ]
  },
  {
   "cell_type": "code",
   "execution_count": 102,
   "id": "df7a0225",
   "metadata": {},
   "outputs": [],
   "source": [
    "import pandas as pd \n",
    "import numpy as np\n",
    "import matplotlib.pyplot as plt\n",
    "%matplotlib inline"
   ]
  },
  {
   "cell_type": "code",
   "execution_count": 103,
   "id": "d9fa51f2",
   "metadata": {},
   "outputs": [],
   "source": [
    "dataset=pd.read_csv(\"iris.csv\")"
   ]
  },
  {
   "cell_type": "code",
   "execution_count": 104,
   "id": "19e9f6c6",
   "metadata": {},
   "outputs": [
    {
     "data": {
      "text/html": [
       "<div>\n",
       "<style scoped>\n",
       "    .dataframe tbody tr th:only-of-type {\n",
       "        vertical-align: middle;\n",
       "    }\n",
       "\n",
       "    .dataframe tbody tr th {\n",
       "        vertical-align: top;\n",
       "    }\n",
       "\n",
       "    .dataframe thead th {\n",
       "        text-align: right;\n",
       "    }\n",
       "</style>\n",
       "<table border=\"1\" class=\"dataframe\">\n",
       "  <thead>\n",
       "    <tr style=\"text-align: right;\">\n",
       "      <th></th>\n",
       "      <th>sepal_length</th>\n",
       "      <th>sepal_width</th>\n",
       "      <th>petal_length</th>\n",
       "      <th>petal_width</th>\n",
       "      <th>class</th>\n",
       "    </tr>\n",
       "  </thead>\n",
       "  <tbody>\n",
       "    <tr>\n",
       "      <th>0</th>\n",
       "      <td>5.1</td>\n",
       "      <td>3.5</td>\n",
       "      <td>1.4</td>\n",
       "      <td>0.2</td>\n",
       "      <td>Iris-setosa</td>\n",
       "    </tr>\n",
       "    <tr>\n",
       "      <th>1</th>\n",
       "      <td>4.9</td>\n",
       "      <td>3.0</td>\n",
       "      <td>1.4</td>\n",
       "      <td>0.2</td>\n",
       "      <td>Iris-setosa</td>\n",
       "    </tr>\n",
       "    <tr>\n",
       "      <th>2</th>\n",
       "      <td>4.7</td>\n",
       "      <td>3.2</td>\n",
       "      <td>1.3</td>\n",
       "      <td>0.2</td>\n",
       "      <td>Iris-setosa</td>\n",
       "    </tr>\n",
       "    <tr>\n",
       "      <th>3</th>\n",
       "      <td>4.6</td>\n",
       "      <td>3.1</td>\n",
       "      <td>1.5</td>\n",
       "      <td>0.2</td>\n",
       "      <td>Iris-setosa</td>\n",
       "    </tr>\n",
       "    <tr>\n",
       "      <th>4</th>\n",
       "      <td>5.0</td>\n",
       "      <td>3.6</td>\n",
       "      <td>1.4</td>\n",
       "      <td>0.2</td>\n",
       "      <td>Iris-setosa</td>\n",
       "    </tr>\n",
       "  </tbody>\n",
       "</table>\n",
       "</div>"
      ],
      "text/plain": [
       "   sepal_length  sepal_width  petal_length  petal_width        class\n",
       "0           5.1          3.5           1.4          0.2  Iris-setosa\n",
       "1           4.9          3.0           1.4          0.2  Iris-setosa\n",
       "2           4.7          3.2           1.3          0.2  Iris-setosa\n",
       "3           4.6          3.1           1.5          0.2  Iris-setosa\n",
       "4           5.0          3.6           1.4          0.2  Iris-setosa"
      ]
     },
     "execution_count": 104,
     "metadata": {},
     "output_type": "execute_result"
    }
   ],
   "source": [
    "dataset.head()"
   ]
  },
  {
   "cell_type": "code",
   "execution_count": 105,
   "id": "b3ee6b44",
   "metadata": {},
   "outputs": [
    {
     "data": {
      "text/plain": [
       "<function matplotlib.pyplot.show(close=None, block=None)>"
      ]
     },
     "execution_count": 105,
     "metadata": {},
     "output_type": "execute_result"
    },
    {
     "data": {
      "image/png": "[encoded data removed]",
      "text/plain": [
       "<Figure size 640x480 with 1 Axes>"
      ]
     },
     "metadata": {},
     "output_type": "display_data"
    }
   ],
   "source": [
    "plt.plot(dataset[\"petal_length\"],dataset[\"sepal_width\"],'o')\n",
    "plt.xlabel('petal_length')\n",
    "plt.ylabel('sepal_width')\n",
    "plt.show"
   ]
  },
  {
   "cell_type": "code",
   "execution_count": 106,
   "id": "a330c772",
   "metadata": {},
   "outputs": [],
   "source": [
    "y=dataset['sepal_width']"
   ]
  },
  {
   "cell_type": "code",
   "execution_count": 107,
   "id": "afc61ff6",
   "metadata": {},
   "outputs": [],
   "source": [
    "x=dataset['petal_length']"
   ]
  },
  {
   "cell_type": "code",
   "execution_count": 108,
   "id": "f08fdf07",
   "metadata": {},
   "outputs": [
    {
     "data": {
      "text/plain": [
       "(150,)"
      ]
     },
     "execution_count": 108,
     "metadata": {},
     "output_type": "execute_result"
    }
   ],
   "source": [
    "x.shape"
   ]
  },
  {
   "cell_type": "code",
   "execution_count": 109,
   "id": "0926c06f",
   "metadata": {},
   "outputs": [
    {
     "data": {
      "text/plain": [
       "(150,)"
      ]
     },
     "execution_count": 109,
     "metadata": {},
     "output_type": "execute_result"
    }
   ],
   "source": [
    "y.shape"
   ]
  },
  {
   "cell_type": "code",
   "execution_count": null,
   "id": "bbf04a23",
   "metadata": {},
   "outputs": [],
   "source": []
  },
  {
   "cell_type": "code",
   "execution_count": 110,
   "id": "30fb7641",
   "metadata": {},
   "outputs": [
    {
     "data": {
      "text/plain": [
       "(150,)"
      ]
     },
     "execution_count": 110,
     "metadata": {},
     "output_type": "execute_result"
    }
   ],
   "source": [
    "x.shape"
   ]
  },
  {
   "cell_type": "code",
   "execution_count": 111,
   "id": "6ea24211",
   "metadata": {},
   "outputs": [
    {
     "data": {
      "text/plain": [
       "(150, 1)"
      ]
     },
     "execution_count": 111,
     "metadata": {},
     "output_type": "execute_result"
    }
   ],
   "source": [
    "y=dataset.sepal_width.values.reshape(150,1)\n",
    "y.shape"
   ]
  },
  {
   "cell_type": "code",
   "execution_count": 112,
   "id": "cb55f2ec",
   "metadata": {},
   "outputs": [
    {
     "data": {
      "text/plain": [
       "(150, 3)"
      ]
     },
     "execution_count": 112,
     "metadata": {},
     "output_type": "execute_result"
    }
   ],
   "source": [
    "x=dataset.petal_length.values.reshape(150,1)\n",
    "\n",
    "X = np.hstack((x, np.ones((150,1))))\n",
    "\n",
    "X = np.hstack((x**2, X))\n",
    "\n",
    "X.shape"
   ]
  },
  {
   "cell_type": "code",
   "execution_count": 113,
   "id": "10e8d300",
   "metadata": {},
   "outputs": [
    {
     "data": {
      "text/plain": [
       "array([[ 1.96,  1.4 ,  1.  ],\n",
       "       [ 1.96,  1.4 ,  1.  ],\n",
       "       [ 1.69,  1.3 ,  1.  ],\n",
       "       [ 2.25,  1.5 ,  1.  ],\n",
       "       [ 1.96,  1.4 ,  1.  ],\n",
       "       [ 2.89,  1.7 ,  1.  ],\n",
       "       [ 1.96,  1.4 ,  1.  ],\n",
       "       [ 2.25,  1.5 ,  1.  ],\n",
       "       [ 1.96,  1.4 ,  1.  ],\n",
       "       [ 2.25,  1.5 ,  1.  ],\n",
       "       [ 2.25,  1.5 ,  1.  ],\n",
       "       [ 2.56,  1.6 ,  1.  ],\n",
       "       [ 1.96,  1.4 ,  1.  ],\n",
       "       [ 1.21,  1.1 ,  1.  ],\n",
       "       [ 1.44,  1.2 ,  1.  ],\n",
       "       [ 2.25,  1.5 ,  1.  ],\n",
       "       [ 1.69,  1.3 ,  1.  ],\n",
       "       [ 1.96,  1.4 ,  1.  ],\n",
       "       [ 2.89,  1.7 ,  1.  ],\n",
       "       [ 2.25,  1.5 ,  1.  ],\n",
       "       [ 2.89,  1.7 ,  1.  ],\n",
       "       [ 2.25,  1.5 ,  1.  ],\n",
       "       [ 1.  ,  1.  ,  1.  ],\n",
       "       [ 2.89,  1.7 ,  1.  ],\n",
       "       [ 3.61,  1.9 ,  1.  ],\n",
       "       [ 2.56,  1.6 ,  1.  ],\n",
       "       [ 2.56,  1.6 ,  1.  ],\n",
       "       [ 2.25,  1.5 ,  1.  ],\n",
       "       [ 1.96,  1.4 ,  1.  ],\n",
       "       [ 2.56,  1.6 ,  1.  ],\n",
       "       [ 2.56,  1.6 ,  1.  ],\n",
       "       [ 2.25,  1.5 ,  1.  ],\n",
       "       [ 2.25,  1.5 ,  1.  ],\n",
       "       [ 1.96,  1.4 ,  1.  ],\n",
       "       [ 2.25,  1.5 ,  1.  ],\n",
       "       [ 1.44,  1.2 ,  1.  ],\n",
       "       [ 1.69,  1.3 ,  1.  ],\n",
       "       [ 2.25,  1.5 ,  1.  ],\n",
       "       [ 1.69,  1.3 ,  1.  ],\n",
       "       [ 2.25,  1.5 ,  1.  ],\n",
       "       [ 1.69,  1.3 ,  1.  ],\n",
       "       [ 1.69,  1.3 ,  1.  ],\n",
       "       [ 1.69,  1.3 ,  1.  ],\n",
       "       [ 2.56,  1.6 ,  1.  ],\n",
       "       [ 3.61,  1.9 ,  1.  ],\n",
       "       [ 1.96,  1.4 ,  1.  ],\n",
       "       [ 2.56,  1.6 ,  1.  ],\n",
       "       [ 1.96,  1.4 ,  1.  ],\n",
       "       [ 2.25,  1.5 ,  1.  ],\n",
       "       [ 1.96,  1.4 ,  1.  ],\n",
       "       [22.09,  4.7 ,  1.  ],\n",
       "       [20.25,  4.5 ,  1.  ],\n",
       "       [24.01,  4.9 ,  1.  ],\n",
       "       [16.  ,  4.  ,  1.  ],\n",
       "       [21.16,  4.6 ,  1.  ],\n",
       "       [20.25,  4.5 ,  1.  ],\n",
       "       [22.09,  4.7 ,  1.  ],\n",
       "       [10.89,  3.3 ,  1.  ],\n",
       "       [21.16,  4.6 ,  1.  ],\n",
       "       [15.21,  3.9 ,  1.  ],\n",
       "       [12.25,  3.5 ,  1.  ],\n",
       "       [17.64,  4.2 ,  1.  ],\n",
       "       [16.  ,  4.  ,  1.  ],\n",
       "       [22.09,  4.7 ,  1.  ],\n",
       "       [12.96,  3.6 ,  1.  ],\n",
       "       [19.36,  4.4 ,  1.  ],\n",
       "       [20.25,  4.5 ,  1.  ],\n",
       "       [16.81,  4.1 ,  1.  ],\n",
       "       [20.25,  4.5 ,  1.  ],\n",
       "       [15.21,  3.9 ,  1.  ],\n",
       "       [23.04,  4.8 ,  1.  ],\n",
       "       [16.  ,  4.  ,  1.  ],\n",
       "       [24.01,  4.9 ,  1.  ],\n",
       "       [22.09,  4.7 ,  1.  ],\n",
       "       [18.49,  4.3 ,  1.  ],\n",
       "       [19.36,  4.4 ,  1.  ],\n",
       "       [23.04,  4.8 ,  1.  ],\n",
       "       [25.  ,  5.  ,  1.  ],\n",
       "       [20.25,  4.5 ,  1.  ],\n",
       "       [12.25,  3.5 ,  1.  ],\n",
       "       [14.44,  3.8 ,  1.  ],\n",
       "       [13.69,  3.7 ,  1.  ],\n",
       "       [15.21,  3.9 ,  1.  ],\n",
       "       [26.01,  5.1 ,  1.  ],\n",
       "       [20.25,  4.5 ,  1.  ],\n",
       "       [20.25,  4.5 ,  1.  ],\n",
       "       [22.09,  4.7 ,  1.  ],\n",
       "       [19.36,  4.4 ,  1.  ],\n",
       "       [16.81,  4.1 ,  1.  ],\n",
       "       [16.  ,  4.  ,  1.  ],\n",
       "       [19.36,  4.4 ,  1.  ],\n",
       "       [21.16,  4.6 ,  1.  ],\n",
       "       [16.  ,  4.  ,  1.  ],\n",
       "       [10.89,  3.3 ,  1.  ],\n",
       "       [17.64,  4.2 ,  1.  ],\n",
       "       [17.64,  4.2 ,  1.  ],\n",
       "       [17.64,  4.2 ,  1.  ],\n",
       "       [18.49,  4.3 ,  1.  ],\n",
       "       [ 9.  ,  3.  ,  1.  ],\n",
       "       [16.81,  4.1 ,  1.  ],\n",
       "       [36.  ,  6.  ,  1.  ],\n",
       "       [26.01,  5.1 ,  1.  ],\n",
       "       [34.81,  5.9 ,  1.  ],\n",
       "       [31.36,  5.6 ,  1.  ],\n",
       "       [33.64,  5.8 ,  1.  ],\n",
       "       [43.56,  6.6 ,  1.  ],\n",
       "       [20.25,  4.5 ,  1.  ],\n",
       "       [39.69,  6.3 ,  1.  ],\n",
       "       [33.64,  5.8 ,  1.  ],\n",
       "       [37.21,  6.1 ,  1.  ],\n",
       "       [26.01,  5.1 ,  1.  ],\n",
       "       [28.09,  5.3 ,  1.  ],\n",
       "       [30.25,  5.5 ,  1.  ],\n",
       "       [25.  ,  5.  ,  1.  ],\n",
       "       [26.01,  5.1 ,  1.  ],\n",
       "       [28.09,  5.3 ,  1.  ],\n",
       "       [30.25,  5.5 ,  1.  ],\n",
       "       [44.89,  6.7 ,  1.  ],\n",
       "       [47.61,  6.9 ,  1.  ],\n",
       "       [25.  ,  5.  ,  1.  ],\n",
       "       [32.49,  5.7 ,  1.  ],\n",
       "       [24.01,  4.9 ,  1.  ],\n",
       "       [44.89,  6.7 ,  1.  ],\n",
       "       [24.01,  4.9 ,  1.  ],\n",
       "       [32.49,  5.7 ,  1.  ],\n",
       "       [36.  ,  6.  ,  1.  ],\n",
       "       [23.04,  4.8 ,  1.  ],\n",
       "       [24.01,  4.9 ,  1.  ],\n",
       "       [31.36,  5.6 ,  1.  ],\n",
       "       [33.64,  5.8 ,  1.  ],\n",
       "       [37.21,  6.1 ,  1.  ],\n",
       "       [40.96,  6.4 ,  1.  ],\n",
       "       [31.36,  5.6 ,  1.  ],\n",
       "       [26.01,  5.1 ,  1.  ],\n",
       "       [31.36,  5.6 ,  1.  ],\n",
       "       [37.21,  6.1 ,  1.  ],\n",
       "       [31.36,  5.6 ,  1.  ],\n",
       "       [30.25,  5.5 ,  1.  ],\n",
       "       [23.04,  4.8 ,  1.  ],\n",
       "       [29.16,  5.4 ,  1.  ],\n",
       "       [31.36,  5.6 ,  1.  ],\n",
       "       [26.01,  5.1 ,  1.  ],\n",
       "       [26.01,  5.1 ,  1.  ],\n",
       "       [34.81,  5.9 ,  1.  ],\n",
       "       [32.49,  5.7 ,  1.  ],\n",
       "       [27.04,  5.2 ,  1.  ],\n",
       "       [25.  ,  5.  ,  1.  ],\n",
       "       [27.04,  5.2 ,  1.  ],\n",
       "       [29.16,  5.4 ,  1.  ],\n",
       "       [26.01,  5.1 ,  1.  ]])"
      ]
     },
     "execution_count": 113,
     "metadata": {},
     "output_type": "execute_result"
    }
   ],
   "source": [
    "X"
   ]
  },
  {
   "cell_type": "code",
   "execution_count": 114,
   "id": "4bedfec2",
   "metadata": {},
   "outputs": [],
   "source": [
    "theta = np.random.randn(3, 1)"
   ]
  },
  {
   "cell_type": "code",
   "execution_count": 115,
   "id": "d976882b",
   "metadata": {},
   "outputs": [
    {
     "data": {
      "text/plain": [
       "array([[-0.27923131],\n",
       "       [ 0.1503599 ],\n",
       "       [-0.82792308]])"
      ]
     },
     "execution_count": 115,
     "metadata": {},
     "output_type": "execute_result"
    }
   ],
   "source": [
    "theta"
   ]
  },
  {
   "cell_type": "markdown",
   "id": "28f69838",
   "metadata": {},
   "source": [
    "## Modèle linéaire"
   ]
  },
  {
   "cell_type": "code",
   "execution_count": 116,
   "id": "936117d0",
   "metadata": {},
   "outputs": [],
   "source": [
    "def model(X, theta):\n",
    "    return X.dot(theta)"
   ]
  },
  {
   "cell_type": "code",
   "execution_count": 117,
   "id": "38347917",
   "metadata": {},
   "outputs": [
    {
     "data": {
      "image/png": "[encoded data removed]",
      "text/plain": [
       "<Figure size 640x480 with 1 Axes>"
      ]
     },
     "metadata": {},
     "output_type": "display_data"
    }
   ],
   "source": [
    "plt.scatter(x,y,label='Dataset')\n",
    "plt.scatter(x, model(X, theta), c='r',label='Modèle initial')\n",
    "plt.xlabel('x')\n",
    "plt.ylabel('y')\n",
    "plt.legend()\n",
    "plt.show()"
   ]
  },
  {
   "cell_type": "code",
   "execution_count": 118,
   "id": "6d12cd98",
   "metadata": {},
   "outputs": [],
   "source": [
    "#cost function\n",
    "def cost_function(X, y, theta):\n",
    "    m = len(y)\n",
    "    return 1/(2*m) * np.sum((model(X, theta) - y)**2)"
   ]
  },
  {
   "cell_type": "code",
   "execution_count": 119,
   "id": "198c1b63",
   "metadata": {},
   "outputs": [
    {
     "data": {
      "text/plain": [
       "37.93637368524126"
      ]
     },
     "execution_count": 119,
     "metadata": {},
     "output_type": "execute_result"
    }
   ],
   "source": [
    "cost_function(X, y, theta)"
   ]
  },
  {
   "cell_type": "markdown",
   "id": "863f38af",
   "metadata": {},
   "source": [
    "## Gradient Descent"
   ]
  },
  {
   "cell_type": "code",
   "execution_count": 120,
   "id": "56fb5a99",
   "metadata": {},
   "outputs": [],
   "source": [
    "def grad(X, y, theta):\n",
    "    m = len(y)\n",
    "    return 1/m * X.T.dot(model(X, theta) - y)"
   ]
  },
  {
   "cell_type": "code",
   "execution_count": 121,
   "id": "42862760",
   "metadata": {},
   "outputs": [],
   "source": [
    "def gradient_descent(X, y, theta, learning_rate, n_iterations):\n",
    "    \n",
    "    cost_history = np.zeros(n_iterations) \n",
    "    \n",
    "    for i in range(0, n_iterations):\n",
    "        theta = theta - learning_rate * grad(X, y, theta) \n",
    "        cost_history[i] = cost_function(X, y, theta)\n",
    "        \n",
    "    return theta, cost_history"
   ]
  },
  {
   "cell_type": "code",
   "execution_count": null,
   "id": "d629bbe7",
   "metadata": {},
   "outputs": [],
   "source": []
  },
  {
   "cell_type": "code",
   "execution_count": 122,
   "id": "da4383a4",
   "metadata": {},
   "outputs": [],
   "source": [
    "n_iterations = 3000\n",
    "learning_rate = 0.001\n",
    "\n",
    "theta_final, cost_history = gradient_descent(X, y, theta, learning_rate, n_iterations)"
   ]
  },
  {
   "cell_type": "code",
   "execution_count": 123,
   "id": "12636975",
   "metadata": {},
   "outputs": [
    {
     "data": {
      "text/plain": [
       "0.35239069373015236"
      ]
     },
     "execution_count": 123,
     "metadata": {},
     "output_type": "execute_result"
    }
   ],
   "source": [
    "cost_history[-1]"
   ]
  },
  {
   "cell_type": "code",
   "execution_count": 124,
   "id": "21c4b96d",
   "metadata": {},
   "outputs": [
    {
     "data": {
      "text/plain": [
       "array([[-0.20943599],\n",
       "       [ 1.56833748],\n",
       "       [ 0.60342092]])"
      ]
     },
     "execution_count": 124,
     "metadata": {},
     "output_type": "execute_result"
    }
   ],
   "source": [
    "theta_final"
   ]
  },
  {
   "cell_type": "code",
   "execution_count": 125,
   "id": "1bc7c72b",
   "metadata": {},
   "outputs": [
    {
     "data": {
      "image/png": "[encoded data removed]",
      "text/plain": [
       "<Figure size 640x480 with 1 Axes>"
      ]
     },
     "metadata": {},
     "output_type": "display_data"
    }
   ],
   "source": [
    "predictions = model(X, theta_final)\n",
    "\n",
    "plt.scatter(x, y)\n",
    "plt.scatter(x, predictions, c='r')\n",
    "plt.xlabel('x')\n",
    "plt.ylabel('y')\n",
    "plt.show()"
   ]
  },
  {
   "cell_type": "code",
   "execution_count": 126,
   "id": "7949e3e3",
   "metadata": {},
   "outputs": [],
   "source": [
    "def coef_determination(y, pred):\n",
    "    u = ((y - pred)**2).sum()\n",
    "    v = ((y - y.mean())**2).sum()\n",
    "    return 1 - u/v"
   ]
  },
  {
   "cell_type": "code",
   "execution_count": 127,
   "id": "e25ca94b",
   "metadata": {},
   "outputs": [
    {
     "data": {
      "text/plain": [
       "-2.7739163133392"
      ]
     },
     "execution_count": 127,
     "metadata": {},
     "output_type": "execute_result"
    }
   ],
   "source": [
    "coef_determination(y, predictions)"
   ]
  },
  {
   "cell_type": "code",
   "execution_count": 128,
   "id": "09cdfc10",
   "metadata": {},
   "outputs": [
    {
     "data": {
      "image/png": "[encoded data removed]",
      "text/plain": [
       "<Figure size 640x480 with 1 Axes>"
      ]
     },
     "metadata": {},
     "output_type": "display_data"
    }
   ],
   "source": [
    "plt.plot(range(n_iterations), cost_history)\n",
    "plt.show()"
   ]
  },
  {
   "cell_type": "code",
   "execution_count": null,
   "id": "7181195d",
   "metadata": {},
   "outputs": [],
   "source": []
  }
 ],
 "metadata": {
  "kernelspec": {
   "display_name": "Python 3 (ipykernel)",
   "language": "python",
   "name": "python3"
  },
  "language_info": {
   "codemirror_mode": {
    "name": "ipython",
    "version": 3
   },
   "file_extension": ".py",
   "mimetype": "text/x-python",
   "name": "python",
   "nbconvert_exporter": "python",
   "pygments_lexer": "ipython3",
   "version": "3.10.9"
  }
 },
 "nbformat": 4,
 "nbformat_minor": 5
}
